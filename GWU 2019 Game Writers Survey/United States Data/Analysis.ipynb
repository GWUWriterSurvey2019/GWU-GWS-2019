{
 "cells": [
  {
   "cell_type": "code",
   "execution_count": 1,
   "metadata": {},
   "outputs": [],
   "source": [
    "from pathlib import Path\n",
    "\n",
    "import pandas as pd\n",
    "import seaborn as sea\n",
    "pd.set_option('precision', 3)\n",
    "sea.set()"
   ]
  },
  {
   "cell_type": "code",
   "execution_count": 2,
   "metadata": {},
   "outputs": [],
   "source": [
    "usa_file = Path('US') / 'responses.csv'\n",
    "france_file = Path('France') / 'responses-adjusted.csv'\n",
    "canada_file = Path('Canada') / 'responses.csv'\n",
    "germany_file = Path('Germany') / 'responses.csv'\n",
    "\n",
    "# Helper functions\n",
    "def add_bar_graph_counts(ax, label=None):\n",
    "    if label:\n",
    "        ax.set_xlabel(label)\n",
    "    for patch in ax.patches:\n",
    "        height = patch.get_height()\n",
    "        ax.text(patch.get_x() + patch.get_width() / 2, height + .1, int(height), ha='center', va='bottom')"
   ]
  },
  {
   "cell_type": "markdown",
   "metadata": {},
   "source": [
    "## USA"
   ]
  },
  {
   "cell_type": "code",
   "execution_count": 3,
   "metadata": {},
   "outputs": [
    {
     "name": "stdout",
     "output_type": "stream",
     "text": [
      "<class 'pandas.core.frame.DataFrame'>\n",
      "Int64Index: 243 entries, 0 to 250\n",
      "Data columns (total 20 columns):\n",
      " #   Column                                                                                                                                                                                                                                                                                                                           Non-Null Count  Dtype \n",
      "---  ------                                                                                                                                                                                                                                                                                                                           --------------  ----- \n",
      " 0   Timestamp                                                                                                                                                                                                                                                                                                                        243 non-null    object\n",
      " 1   By clicking the checkbox below, I consent to have my survey answers used for the purposes of publishing public information about game writing, as well as having the information used for general labor organizing within Game Workers Unite. Your personal information (email, phone number, name, etc) will not be published.  243 non-null    object\n",
      " 2   What's your current role? If you have more than one, mark all that apply. [If you are a late entry filling this out in 2020, please answer with answers that are true for your 2019. Thank you!]                                                                                                                                 243 non-null    object\n",
      " 3   How many years of experience do you have as a game writer? [If you are a late entry filling this out in 2020, please answer with answers that are true for your 2019. Thank you!]                                                                                                                                                243 non-null    object\n",
      " 4   Which state or territory in the U.S. do you primarily work from? [If you are a late entry filling this out in 2020, please answer with answers that are true for your 2019. Thank you!]                                                                                                                                          243 non-null    object\n",
      " 5   Is game writing your main source of income?                                                                                                                                                                                                                                                                                      243 non-null    object\n",
      " 6   What is your employment status as a game writer?                                                                                                                                                                                                                                                                                 243 non-null    object\n",
      " 7   Do you identify as part of a marginalized community?                                                                                                                                                                                                                                                                             243 non-null    object\n",
      " 8   What was your net income from game writing in 2018 ?                                                                                                                                                                                                                                                                             243 non-null    object\n",
      " 9   How much are you being paid for game writing in 2019? (Salary)                                                                                                                                                                                                                                                                   114 non-null    object\n",
      " 10  How much are you charging for game writing in 2019? (Rate)                                                                                                                                                                                                                                                                       137 non-null    object\n",
      " 11  What do you expect your net income from game writing to be in 2019? [If you are a late entry filling this out in 2020, please answer with the amount of money you did make in 2019, if you feel comfortable doing so.]                                                                                                           240 non-null    object\n",
      " 12  What issues have you experienced in your game writing role(s)?                                                                                                                                                                                                                                                                   243 non-null    object\n",
      " 13  What are the main issues you experience as a game writer?                                                                                                                                                                                                                                                                        205 non-null    object\n",
      " 14  Have you been miscategorized as an independent contractor now or in the past?                                                                                                                                                                                                                                                    243 non-null    object\n",
      " 15  Do you believe the game industry should unionize?                                                                                                                                                                                                                                                                                243 non-null    object\n",
      " 16  Should game writers work with a pre-existing labor organization?                                                                                                                                                                                                                                                                 243 non-null    object\n",
      " 17  Provide any (positive or negative) feedback you'd like about the survey!                                                                                                                                                                                                                                                         34 non-null     object\n",
      " 18  Would you like GWU to follow-up with you about your answers to the survey?                                                                                                                                                                                                                                                       59 non-null     object\n",
      " 19  Unnamed: 19                                                                                                                                                                                                                                                                                                                      0 non-null      object\n",
      "dtypes: object(20)\n",
      "memory usage: 39.9+ KB\n"
     ]
    }
   ],
   "source": [
    "df_usa = pd.read_csv(usa_file)\n",
    "df_usa.drop(df_usa[df_usa['Timestamp'] == \"fake entry\"].index, inplace=True)\n",
    "df_usa['Timestamp']\n",
    "df_usa.info()"
   ]
  },
  {
   "cell_type": "markdown",
   "metadata": {},
   "source": [
    "### Most represented regions"
   ]
  },
  {
   "cell_type": "code",
   "execution_count": 4,
   "metadata": {},
   "outputs": [
    {
     "data": {
      "image/png": "[encoded data removed]",
      "text/plain": [
       "<Figure size 1080x864 with 1 Axes>"
      ]
     },
     "metadata": {},
     "output_type": "display_data"
    }
   ],
   "source": [
    "region_value_counts = df_usa['Which state or territory in the U.S. do you primarily work from? [If you are a late entry filling this out in 2020, please answer with answers that are true for your 2019. Thank you!]'].value_counts().sort_values()\n",
    "ax = region_value_counts.plot(kind='barh', figsize=(15,12), grid=False)\n",
    "ax.set_xlabel('Frequency')\n",
    "for patch, count in zip(ax.patches, region_value_counts.values):\n",
    "    length = patch.get_width()\n",
    "    ax.text(length + 1, patch.get_y() - .05, count, ha='left', va='bottom')"
   ]
  },
  {
   "cell_type": "markdown",
   "metadata": {},
   "source": [
    "### Employment Status\n",
    "\n",
    "How many people were in each employment category."
   ]
  },
  {
   "cell_type": "code",
   "execution_count": 5,
   "metadata": {},
   "outputs": [
    {
     "data": {
      "text/plain": [
       "Full time employee      87\n",
       "Part Time Freelancer    72\n",
       "Full Time Freelancer    41\n",
       "Full time contractor    21\n",
       "Solo developer           8\n",
       "Part time executive      6\n",
       "Part time employee       5\n",
       "Full time executive      3\n",
       "Name: employment_status, dtype: int64"
      ]
     },
     "execution_count": 5,
     "metadata": {},
     "output_type": "execute_result"
    }
   ],
   "source": [
    "df_usa['employment_status'] = df_usa['What is your employment status as a game writer?'].str.split(' - ').map(lambda x: x[0])\n",
    "df_usa['employment_status'].value_counts()"
   ]
  },
  {
   "cell_type": "markdown",
   "metadata": {},
   "source": [
    "### Marginalized groups"
   ]
  },
  {
   "cell_type": "code",
   "execution_count": 6,
   "metadata": {},
   "outputs": [
    {
     "data": {
      "text/plain": [
       "Yes    131\n",
       "No     112\n",
       "Name: Do you identify as part of a marginalized community?, dtype: int64"
      ]
     },
     "execution_count": 6,
     "metadata": {},
     "output_type": "execute_result"
    }
   ],
   "source": [
    "df_usa['is_marginalized'] = df_usa['Do you identify as part of a marginalized community?'].apply(lambda x: x == 'Yes')\n",
    "df_usa['Do you identify as part of a marginalized community?'].value_counts()"
   ]
  },
  {
   "cell_type": "markdown",
   "metadata": {},
   "source": [
    "### Years of Experience\n",
    "\n",
    "Note: if a bin says '0', it may just be because respondents rounded the number of years they have been in the industry. That's probably why there's a spike at the 10-year step, when some of those respondents might really be in the 11-14 year range."
   ]
  },
  {
   "cell_type": "code",
   "execution_count": 7,
   "metadata": {},
   "outputs": [
    {
     "data": {
      "image/png": "[encoded data removed]",
      "text/plain": [
       "<Figure size 1080x864 with 1 Axes>"
      ]
     },
     "metadata": {},
     "output_type": "display_data"
    }
   ],
   "source": [
    "df_usa['yoe'] = df_usa['How many years of experience do you have as a game writer? [If you are a late entry filling this out in 2020, please answer with answers that are true for your 2019. Thank you!]']\n",
    "df_usa['yoe'] = df_usa.yoe.str.replace('1 - 6 months', '0').str.replace(r'-\\d+', '').str.replace(r'\\D', '').astype(int)\n",
    "ax = df_usa['yoe'].plot(kind='hist', bins=26, figsize=(15,12), grid=False)\n",
    "add_bar_graph_counts(ax, 'Years of Experience')"
   ]
  },
  {
   "cell_type": "markdown",
   "metadata": {},
   "source": [
    "### 2018 Salaries\n",
    "\n",
    "This bar graph visualizes the number of people in each 'bracket' of income. Each bin on the horizontal axis spans $10,000, so the first column shows 61 people made between 0-10,000, the second shows 20 made 10,000-20,000, etc."
   ]
  },
  {
   "cell_type": "code",
   "execution_count": 8,
   "metadata": {},
   "outputs": [
    {
     "data": {
      "image/png": "[encoded data removed]",
      "text/plain": [
       "<Figure size 1080x864 with 1 Axes>"
      ]
     },
     "metadata": {},
     "output_type": "display_data"
    }
   ],
   "source": [
    "df_usa['income_2018'] = df_usa['What was your net income from game writing in 2018 ? ']\n",
    "df_usa['income_2018'] = df_usa['income_2018'].str.replace(r'\\d+-', '').str.replace(r'k\\b', '000').str.replace(r'\\.\\d+\\b', '').str.replace(r'\\D', '').apply(lambda x: x if x != '' else '-1').astype(int)\n",
    "ax = df_usa['income_2018'].plot(kind='hist', bins=df_usa.income_2018.max() // 10000 + 1, figsize=(15,12), grid=False)\n",
    "add_bar_graph_counts(ax, 'Salary (USD)')"
   ]
  },
  {
   "cell_type": "markdown",
   "metadata": {},
   "source": [
    "#### Small income\n",
    "\n",
    "Descriptive statistics for the 7 respondents claiming to have made less than $1,000 USD in 2019 from game writing."
   ]
  },
  {
   "cell_type": "code",
   "execution_count": 9,
   "metadata": {},
   "outputs": [
    {
     "data": {
      "text/html": [
       "<div>\n",
       "<style scoped>\n",
       "    .dataframe tbody tr th:only-of-type {\n",
       "        vertical-align: middle;\n",
       "    }\n",
       "\n",
       "    .dataframe tbody tr th {\n",
       "        vertical-align: top;\n",
       "    }\n",
       "\n",
       "    .dataframe thead th {\n",
       "        text-align: right;\n",
       "    }\n",
       "</style>\n",
       "<table border=\"1\" class=\"dataframe\">\n",
       "  <thead>\n",
       "    <tr style=\"text-align: right;\">\n",
       "      <th></th>\n",
       "      <th>income_2018</th>\n",
       "    </tr>\n",
       "  </thead>\n",
       "  <tbody>\n",
       "    <tr>\n",
       "      <th>count</th>\n",
       "      <td>10.000</td>\n",
       "    </tr>\n",
       "    <tr>\n",
       "      <th>mean</th>\n",
       "      <td>327.200</td>\n",
       "    </tr>\n",
       "    <tr>\n",
       "      <th>std</th>\n",
       "      <td>226.038</td>\n",
       "    </tr>\n",
       "    <tr>\n",
       "      <th>min</th>\n",
       "      <td>1.000</td>\n",
       "    </tr>\n",
       "    <tr>\n",
       "      <th>25%</th>\n",
       "      <td>161.750</td>\n",
       "    </tr>\n",
       "    <tr>\n",
       "      <th>50%</th>\n",
       "      <td>348.500</td>\n",
       "    </tr>\n",
       "    <tr>\n",
       "      <th>75%</th>\n",
       "      <td>500.000</td>\n",
       "    </tr>\n",
       "    <tr>\n",
       "      <th>max</th>\n",
       "      <td>600.000</td>\n",
       "    </tr>\n",
       "  </tbody>\n",
       "</table>\n",
       "</div>"
      ],
      "text/plain": [
       "       income_2018\n",
       "count       10.000\n",
       "mean       327.200\n",
       "std        226.038\n",
       "min          1.000\n",
       "25%        161.750\n",
       "50%        348.500\n",
       "75%        500.000\n",
       "max        600.000"
      ]
     },
     "execution_count": 9,
     "metadata": {},
     "output_type": "execute_result"
    }
   ],
   "source": [
    "df_usa.query('income_2018 > 0 & income_2018 < 1000')[['income_2018']].describe()"
   ]
  },
  {
   "cell_type": "markdown",
   "metadata": {},
   "source": [
    "#### Large income\n",
    "\n",
    "Look at the descriptive statistics for the 16 respondents claiming to have made more than $100,000 USD in 2018 from game writing."
   ]
  },
  {
   "cell_type": "code",
   "execution_count": 10,
   "metadata": {},
   "outputs": [
    {
     "data": {
      "text/html": [
       "<div>\n",
       "<style scoped>\n",
       "    .dataframe tbody tr th:only-of-type {\n",
       "        vertical-align: middle;\n",
       "    }\n",
       "\n",
       "    .dataframe tbody tr th {\n",
       "        vertical-align: top;\n",
       "    }\n",
       "\n",
       "    .dataframe thead th {\n",
       "        text-align: right;\n",
       "    }\n",
       "</style>\n",
       "<table border=\"1\" class=\"dataframe\">\n",
       "  <thead>\n",
       "    <tr style=\"text-align: right;\">\n",
       "      <th></th>\n",
       "      <th>income_2018</th>\n",
       "    </tr>\n",
       "  </thead>\n",
       "  <tbody>\n",
       "    <tr>\n",
       "      <th>count</th>\n",
       "      <td>13.000</td>\n",
       "    </tr>\n",
       "    <tr>\n",
       "      <th>mean</th>\n",
       "      <td>154461.538</td>\n",
       "    </tr>\n",
       "    <tr>\n",
       "      <th>std</th>\n",
       "      <td>57838.302</td>\n",
       "    </tr>\n",
       "    <tr>\n",
       "      <th>min</th>\n",
       "      <td>104000.000</td>\n",
       "    </tr>\n",
       "    <tr>\n",
       "      <th>25%</th>\n",
       "      <td>120000.000</td>\n",
       "    </tr>\n",
       "    <tr>\n",
       "      <th>50%</th>\n",
       "      <td>135000.000</td>\n",
       "    </tr>\n",
       "    <tr>\n",
       "      <th>75%</th>\n",
       "      <td>165000.000</td>\n",
       "    </tr>\n",
       "    <tr>\n",
       "      <th>max</th>\n",
       "      <td>310000.000</td>\n",
       "    </tr>\n",
       "  </tbody>\n",
       "</table>\n",
       "</div>"
      ],
      "text/plain": [
       "       income_2018\n",
       "count       13.000\n",
       "mean    154461.538\n",
       "std      57838.302\n",
       "min     104000.000\n",
       "25%     120000.000\n",
       "50%     135000.000\n",
       "75%     165000.000\n",
       "max     310000.000"
      ]
     },
     "execution_count": 10,
     "metadata": {},
     "output_type": "execute_result"
    }
   ],
   "source": [
    "df_usa.query('income_2018 > 100000')[['income_2018']].describe()"
   ]
  },
  {
   "cell_type": "markdown",
   "metadata": {},
   "source": [
    "### 2019 income and rates\n",
    "\n",
    "This bar graph visualizes the number of people in each 'bracket' of income. Each bin on the horizontal axis spans $10,000, so the first column shows 61 people made between 0-10,000, the second shows 20 made 10,000-20,000, etc."
   ]
  },
  {
   "cell_type": "code",
   "execution_count": 11,
   "metadata": {},
   "outputs": [
    {
     "data": {
      "image/png": "[encoded data removed]",
      "text/plain": [
       "<Figure size 1080x864 with 1 Axes>"
      ]
     },
     "metadata": {},
     "output_type": "display_data"
    }
   ],
   "source": [
    "df_usa['income_2019'] = df_usa['What do you expect your net income from game writing to be in 2019? [If you are a late entry filling this out in 2020, please answer with the amount of money you did make in 2019, if you feel comfortable doing so.]']\n",
    "df_usa['income_2019'] = df_usa['income_2019'].str.replace(r'\\d+-', '').str.replace(r'k\\b', '000').str.replace(r'\\.\\d+\\b', '').str.replace(r'\\D+', '').apply(lambda x: x if x != '' else '-1').fillna('-1').astype(int)\n",
    "ax = df_usa.query('income_2019 > -1').income_2019.plot(kind='hist', bins=df_usa.income_2019.max() // 10000 + 1, figsize=(15,12), grid=False)\n",
    "add_bar_graph_counts(ax, 'Salary (USD)')"
   ]
  },
  {
   "cell_type": "code",
   "execution_count": 12,
   "metadata": {},
   "outputs": [
    {
     "data": {
      "text/plain": [
       "20"
      ]
     },
     "execution_count": 12,
     "metadata": {},
     "output_type": "execute_result"
    }
   ],
   "source": [
    "df_usa['income_2019'].value_counts().loc[-1]"
   ]
  },
  {
   "cell_type": "markdown",
   "metadata": {},
   "source": [
    "There are 20 entries whose salary data was null for 2019"
   ]
  },
  {
   "cell_type": "markdown",
   "metadata": {},
   "source": [
    "#### Small income\n",
    "\n",
    "Descriptive statistics for the 7 respondents claiming to have made less than $1,000 USD in 2019 from game writing."
   ]
  },
  {
   "cell_type": "code",
   "execution_count": 13,
   "metadata": {},
   "outputs": [
    {
     "data": {
      "text/html": [
       "<div>\n",
       "<style scoped>\n",
       "    .dataframe tbody tr th:only-of-type {\n",
       "        vertical-align: middle;\n",
       "    }\n",
       "\n",
       "    .dataframe tbody tr th {\n",
       "        vertical-align: top;\n",
       "    }\n",
       "\n",
       "    .dataframe thead th {\n",
       "        text-align: right;\n",
       "    }\n",
       "</style>\n",
       "<table border=\"1\" class=\"dataframe\">\n",
       "  <thead>\n",
       "    <tr style=\"text-align: right;\">\n",
       "      <th></th>\n",
       "      <th>income_2019</th>\n",
       "    </tr>\n",
       "  </thead>\n",
       "  <tbody>\n",
       "    <tr>\n",
       "      <th>count</th>\n",
       "      <td>7.000</td>\n",
       "    </tr>\n",
       "    <tr>\n",
       "      <th>mean</th>\n",
       "      <td>244.714</td>\n",
       "    </tr>\n",
       "    <tr>\n",
       "      <th>std</th>\n",
       "      <td>248.634</td>\n",
       "    </tr>\n",
       "    <tr>\n",
       "      <th>min</th>\n",
       "      <td>3.000</td>\n",
       "    </tr>\n",
       "    <tr>\n",
       "      <th>25%</th>\n",
       "      <td>55.000</td>\n",
       "    </tr>\n",
       "    <tr>\n",
       "      <th>50%</th>\n",
       "      <td>100.000</td>\n",
       "    </tr>\n",
       "    <tr>\n",
       "      <th>75%</th>\n",
       "      <td>450.000</td>\n",
       "    </tr>\n",
       "    <tr>\n",
       "      <th>max</th>\n",
       "      <td>600.000</td>\n",
       "    </tr>\n",
       "  </tbody>\n",
       "</table>\n",
       "</div>"
      ],
      "text/plain": [
       "       income_2019\n",
       "count        7.000\n",
       "mean       244.714\n",
       "std        248.634\n",
       "min          3.000\n",
       "25%         55.000\n",
       "50%        100.000\n",
       "75%        450.000\n",
       "max        600.000"
      ]
     },
     "execution_count": 13,
     "metadata": {},
     "output_type": "execute_result"
    }
   ],
   "source": [
    "df_usa.query('income_2019 > 0 & income_2019 < 1000')[['income_2019']].describe()"
   ]
  },
  {
   "cell_type": "markdown",
   "metadata": {},
   "source": [
    "#### Large income\n",
    "\n",
    "Look at the descriptive statistics for the 16 respondents claiming to have made more than $100,000 USD in 2019 from game writing."
   ]
  },
  {
   "cell_type": "code",
   "execution_count": 14,
   "metadata": {},
   "outputs": [
    {
     "data": {
      "text/html": [
       "<div>\n",
       "<style scoped>\n",
       "    .dataframe tbody tr th:only-of-type {\n",
       "        vertical-align: middle;\n",
       "    }\n",
       "\n",
       "    .dataframe tbody tr th {\n",
       "        vertical-align: top;\n",
       "    }\n",
       "\n",
       "    .dataframe thead th {\n",
       "        text-align: right;\n",
       "    }\n",
       "</style>\n",
       "<table border=\"1\" class=\"dataframe\">\n",
       "  <thead>\n",
       "    <tr style=\"text-align: right;\">\n",
       "      <th></th>\n",
       "      <th>income_2019</th>\n",
       "    </tr>\n",
       "  </thead>\n",
       "  <tbody>\n",
       "    <tr>\n",
       "      <th>count</th>\n",
       "      <td>16.000</td>\n",
       "    </tr>\n",
       "    <tr>\n",
       "      <th>mean</th>\n",
       "      <td>175200.000</td>\n",
       "    </tr>\n",
       "    <tr>\n",
       "      <th>std</th>\n",
       "      <td>95583.262</td>\n",
       "    </tr>\n",
       "    <tr>\n",
       "      <th>min</th>\n",
       "      <td>105000.000</td>\n",
       "    </tr>\n",
       "    <tr>\n",
       "      <th>25%</th>\n",
       "      <td>120000.000</td>\n",
       "    </tr>\n",
       "    <tr>\n",
       "      <th>50%</th>\n",
       "      <td>156500.000</td>\n",
       "    </tr>\n",
       "    <tr>\n",
       "      <th>75%</th>\n",
       "      <td>192500.000</td>\n",
       "    </tr>\n",
       "    <tr>\n",
       "      <th>max</th>\n",
       "      <td>510000.000</td>\n",
       "    </tr>\n",
       "  </tbody>\n",
       "</table>\n",
       "</div>"
      ],
      "text/plain": [
       "       income_2019\n",
       "count       16.000\n",
       "mean    175200.000\n",
       "std      95583.262\n",
       "min     105000.000\n",
       "25%     120000.000\n",
       "50%     156500.000\n",
       "75%     192500.000\n",
       "max     510000.000"
      ]
     },
     "execution_count": 14,
     "metadata": {},
     "output_type": "execute_result"
    }
   ],
   "source": [
    "df_usa.query('income_2019 > 100000')[['income_2019']].describe()"
   ]
  },
  {
   "cell_type": "markdown",
   "metadata": {},
   "source": [
    "#### Rates"
   ]
  },
  {
   "cell_type": "code",
   "execution_count": 15,
   "metadata": {},
   "outputs": [
    {
     "data": {
      "text/plain": [
       "False    94\n",
       "True     43\n",
       "Name: rates, dtype: int64"
      ]
     },
     "execution_count": 15,
     "metadata": {},
     "output_type": "execute_result"
    }
   ],
   "source": [
    "df_usa['rates'] = df_usa['How much are you charging for game writing in 2019? (Rate)']\n",
    "df_usa['rates'].str.isnumeric().value_counts()"
   ]
  },
  {
   "cell_type": "markdown",
   "metadata": {},
   "source": [
    "Most of the Rate entries are not numeric, so it will require further processing before they can be used."
   ]
  },
  {
   "cell_type": "markdown",
   "metadata": {},
   "source": [
    "### Income by identity"
   ]
  },
  {
   "cell_type": "code",
   "execution_count": 16,
   "metadata": {},
   "outputs": [
    {
     "data": {
      "text/html": [
       "<div>\n",
       "<style scoped>\n",
       "    .dataframe tbody tr th:only-of-type {\n",
       "        vertical-align: middle;\n",
       "    }\n",
       "\n",
       "    .dataframe tbody tr th {\n",
       "        vertical-align: top;\n",
       "    }\n",
       "\n",
       "    .dataframe thead th {\n",
       "        text-align: right;\n",
       "    }\n",
       "</style>\n",
       "<table border=\"1\" class=\"dataframe\">\n",
       "  <thead>\n",
       "    <tr style=\"text-align: right;\">\n",
       "      <th></th>\n",
       "      <th>is_marginalized</th>\n",
       "      <th>False</th>\n",
       "      <th>True</th>\n",
       "    </tr>\n",
       "  </thead>\n",
       "  <tbody>\n",
       "    <tr>\n",
       "      <th rowspan=\"8\" valign=\"top\">yoe</th>\n",
       "      <th>count</th>\n",
       "      <td>101.000</td>\n",
       "      <td>122.000</td>\n",
       "    </tr>\n",
       "    <tr>\n",
       "      <th>mean</th>\n",
       "      <td>7.446</td>\n",
       "      <td>4.869</td>\n",
       "    </tr>\n",
       "    <tr>\n",
       "      <th>std</th>\n",
       "      <td>5.737</td>\n",
       "      <td>4.086</td>\n",
       "    </tr>\n",
       "    <tr>\n",
       "      <th>min</th>\n",
       "      <td>0.000</td>\n",
       "      <td>0.000</td>\n",
       "    </tr>\n",
       "    <tr>\n",
       "      <th>25%</th>\n",
       "      <td>3.000</td>\n",
       "      <td>2.000</td>\n",
       "    </tr>\n",
       "    <tr>\n",
       "      <th>50%</th>\n",
       "      <td>6.000</td>\n",
       "      <td>4.000</td>\n",
       "    </tr>\n",
       "    <tr>\n",
       "      <th>75%</th>\n",
       "      <td>10.000</td>\n",
       "      <td>6.000</td>\n",
       "    </tr>\n",
       "    <tr>\n",
       "      <th>max</th>\n",
       "      <td>25.000</td>\n",
       "      <td>25.000</td>\n",
       "    </tr>\n",
       "    <tr>\n",
       "      <th rowspan=\"8\" valign=\"top\">income_2018</th>\n",
       "      <th>count</th>\n",
       "      <td>101.000</td>\n",
       "      <td>122.000</td>\n",
       "    </tr>\n",
       "    <tr>\n",
       "      <th>mean</th>\n",
       "      <td>46905.396</td>\n",
       "      <td>33092.139</td>\n",
       "    </tr>\n",
       "    <tr>\n",
       "      <th>std</th>\n",
       "      <td>52623.664</td>\n",
       "      <td>32762.079</td>\n",
       "    </tr>\n",
       "    <tr>\n",
       "      <th>min</th>\n",
       "      <td>0.000</td>\n",
       "      <td>0.000</td>\n",
       "    </tr>\n",
       "    <tr>\n",
       "      <th>25%</th>\n",
       "      <td>6000.000</td>\n",
       "      <td>2500.000</td>\n",
       "    </tr>\n",
       "    <tr>\n",
       "      <th>50%</th>\n",
       "      <td>35000.000</td>\n",
       "      <td>25500.000</td>\n",
       "    </tr>\n",
       "    <tr>\n",
       "      <th>75%</th>\n",
       "      <td>70000.000</td>\n",
       "      <td>55000.000</td>\n",
       "    </tr>\n",
       "    <tr>\n",
       "      <th>max</th>\n",
       "      <td>310000.000</td>\n",
       "      <td>135000.000</td>\n",
       "    </tr>\n",
       "    <tr>\n",
       "      <th rowspan=\"8\" valign=\"top\">income_2019</th>\n",
       "      <th>count</th>\n",
       "      <td>101.000</td>\n",
       "      <td>122.000</td>\n",
       "    </tr>\n",
       "    <tr>\n",
       "      <th>mean</th>\n",
       "      <td>53475.069</td>\n",
       "      <td>39654.934</td>\n",
       "    </tr>\n",
       "    <tr>\n",
       "      <th>std</th>\n",
       "      <td>65255.448</td>\n",
       "      <td>38436.642</td>\n",
       "    </tr>\n",
       "    <tr>\n",
       "      <th>min</th>\n",
       "      <td>0.000</td>\n",
       "      <td>0.000</td>\n",
       "    </tr>\n",
       "    <tr>\n",
       "      <th>25%</th>\n",
       "      <td>12000.000</td>\n",
       "      <td>4625.000</td>\n",
       "    </tr>\n",
       "    <tr>\n",
       "      <th>50%</th>\n",
       "      <td>40000.000</td>\n",
       "      <td>33500.000</td>\n",
       "    </tr>\n",
       "    <tr>\n",
       "      <th>75%</th>\n",
       "      <td>75000.000</td>\n",
       "      <td>62250.000</td>\n",
       "    </tr>\n",
       "    <tr>\n",
       "      <th>max</th>\n",
       "      <td>510000.000</td>\n",
       "      <td>190000.000</td>\n",
       "    </tr>\n",
       "  </tbody>\n",
       "</table>\n",
       "</div>"
      ],
      "text/plain": [
       "is_marginalized         False       True \n",
       "yoe         count     101.000     122.000\n",
       "            mean        7.446       4.869\n",
       "            std         5.737       4.086\n",
       "            min         0.000       0.000\n",
       "            25%         3.000       2.000\n",
       "            50%         6.000       4.000\n",
       "            75%        10.000       6.000\n",
       "            max        25.000      25.000\n",
       "income_2018 count     101.000     122.000\n",
       "            mean    46905.396   33092.139\n",
       "            std     52623.664   32762.079\n",
       "            min         0.000       0.000\n",
       "            25%      6000.000    2500.000\n",
       "            50%     35000.000   25500.000\n",
       "            75%     70000.000   55000.000\n",
       "            max    310000.000  135000.000\n",
       "income_2019 count     101.000     122.000\n",
       "            mean    53475.069   39654.934\n",
       "            std     65255.448   38436.642\n",
       "            min         0.000       0.000\n",
       "            25%     12000.000    4625.000\n",
       "            50%     40000.000   33500.000\n",
       "            75%     75000.000   62250.000\n",
       "            max    510000.000  190000.000"
      ]
     },
     "execution_count": 16,
     "metadata": {},
     "output_type": "execute_result"
    }
   ],
   "source": [
    "df_usa.query('income_2019 > -1').groupby('is_marginalized').describe().transpose()"
   ]
  },
  {
   "cell_type": "markdown",
   "metadata": {},
   "source": [
    "### 2019 Income by Years of Experience\n",
    "\n",
    "Each row shows the descriptive statistics for respondents with (at least) a certain number of years of experience; 2018 is on the left, 2019 on the right. The `count` column shows how many submissions there were in this category, while the 25/50/75% columns are percentiles. The descriptive statistics may not be reliable if there the count is small."
   ]
  },
  {
   "cell_type": "code",
   "execution_count": 17,
   "metadata": {},
   "outputs": [
    {
     "data": {
      "text/html": [
       "<div>\n",
       "<style scoped>\n",
       "    .dataframe tbody tr th:only-of-type {\n",
       "        vertical-align: middle;\n",
       "    }\n",
       "\n",
       "    .dataframe tbody tr th {\n",
       "        vertical-align: top;\n",
       "    }\n",
       "\n",
       "    .dataframe thead tr th {\n",
       "        text-align: left;\n",
       "    }\n",
       "\n",
       "    .dataframe thead tr:last-of-type th {\n",
       "        text-align: right;\n",
       "    }\n",
       "</style>\n",
       "<table border=\"1\" class=\"dataframe\">\n",
       "  <thead>\n",
       "    <tr>\n",
       "      <th></th>\n",
       "      <th colspan=\"8\" halign=\"left\">income_2018</th>\n",
       "      <th colspan=\"8\" halign=\"left\">income_2019</th>\n",
       "    </tr>\n",
       "    <tr>\n",
       "      <th></th>\n",
       "      <th>count</th>\n",
       "      <th>mean</th>\n",
       "      <th>std</th>\n",
       "      <th>min</th>\n",
       "      <th>25%</th>\n",
       "      <th>50%</th>\n",
       "      <th>75%</th>\n",
       "      <th>max</th>\n",
       "      <th>count</th>\n",
       "      <th>mean</th>\n",
       "      <th>std</th>\n",
       "      <th>min</th>\n",
       "      <th>25%</th>\n",
       "      <th>50%</th>\n",
       "      <th>75%</th>\n",
       "      <th>max</th>\n",
       "    </tr>\n",
       "    <tr>\n",
       "      <th>yoe</th>\n",
       "      <th></th>\n",
       "      <th></th>\n",
       "      <th></th>\n",
       "      <th></th>\n",
       "      <th></th>\n",
       "      <th></th>\n",
       "      <th></th>\n",
       "      <th></th>\n",
       "      <th></th>\n",
       "      <th></th>\n",
       "      <th></th>\n",
       "      <th></th>\n",
       "      <th></th>\n",
       "      <th></th>\n",
       "      <th></th>\n",
       "      <th></th>\n",
       "    </tr>\n",
       "  </thead>\n",
       "  <tbody>\n",
       "    <tr>\n",
       "      <th>0</th>\n",
       "      <td>9.0</td>\n",
       "      <td>4388.889</td>\n",
       "      <td>8601.518</td>\n",
       "      <td>0.0</td>\n",
       "      <td>0.0</td>\n",
       "      <td>0.0</td>\n",
       "      <td>500.00</td>\n",
       "      <td>21000.0</td>\n",
       "      <td>9.0</td>\n",
       "      <td>21877.778</td>\n",
       "      <td>21197.510</td>\n",
       "      <td>0.0</td>\n",
       "      <td>4500.00</td>\n",
       "      <td>15000.0</td>\n",
       "      <td>40000.00</td>\n",
       "      <td>52000.0</td>\n",
       "    </tr>\n",
       "    <tr>\n",
       "      <th>1</th>\n",
       "      <td>12.0</td>\n",
       "      <td>9125.000</td>\n",
       "      <td>18526.498</td>\n",
       "      <td>0.0</td>\n",
       "      <td>750.0</td>\n",
       "      <td>1750.0</td>\n",
       "      <td>6250.00</td>\n",
       "      <td>65000.0</td>\n",
       "      <td>12.0</td>\n",
       "      <td>17000.417</td>\n",
       "      <td>18612.347</td>\n",
       "      <td>2000.0</td>\n",
       "      <td>4650.00</td>\n",
       "      <td>10000.0</td>\n",
       "      <td>20601.25</td>\n",
       "      <td>65000.0</td>\n",
       "    </tr>\n",
       "    <tr>\n",
       "      <th>2</th>\n",
       "      <td>36.0</td>\n",
       "      <td>24987.444</td>\n",
       "      <td>24967.926</td>\n",
       "      <td>0.0</td>\n",
       "      <td>2550.0</td>\n",
       "      <td>12000.0</td>\n",
       "      <td>45815.75</td>\n",
       "      <td>78000.0</td>\n",
       "      <td>36.0</td>\n",
       "      <td>27382.583</td>\n",
       "      <td>26387.783</td>\n",
       "      <td>0.0</td>\n",
       "      <td>3000.00</td>\n",
       "      <td>15000.0</td>\n",
       "      <td>48500.00</td>\n",
       "      <td>90000.0</td>\n",
       "    </tr>\n",
       "    <tr>\n",
       "      <th>3</th>\n",
       "      <td>25.0</td>\n",
       "      <td>34342.640</td>\n",
       "      <td>23401.244</td>\n",
       "      <td>0.0</td>\n",
       "      <td>11000.0</td>\n",
       "      <td>43000.0</td>\n",
       "      <td>54000.00</td>\n",
       "      <td>72000.0</td>\n",
       "      <td>25.0</td>\n",
       "      <td>36512.320</td>\n",
       "      <td>29255.666</td>\n",
       "      <td>0.0</td>\n",
       "      <td>12000.00</td>\n",
       "      <td>35000.0</td>\n",
       "      <td>56500.00</td>\n",
       "      <td>93000.0</td>\n",
       "    </tr>\n",
       "    <tr>\n",
       "      <th>4</th>\n",
       "      <td>24.0</td>\n",
       "      <td>31896.500</td>\n",
       "      <td>27840.344</td>\n",
       "      <td>0.0</td>\n",
       "      <td>3425.0</td>\n",
       "      <td>29000.0</td>\n",
       "      <td>58875.00</td>\n",
       "      <td>85000.0</td>\n",
       "      <td>24.0</td>\n",
       "      <td>44863.833</td>\n",
       "      <td>31185.802</td>\n",
       "      <td>1500.0</td>\n",
       "      <td>17000.00</td>\n",
       "      <td>50500.0</td>\n",
       "      <td>70000.00</td>\n",
       "      <td>100000.0</td>\n",
       "    </tr>\n",
       "    <tr>\n",
       "      <th>5</th>\n",
       "      <td>24.0</td>\n",
       "      <td>30037.375</td>\n",
       "      <td>29947.820</td>\n",
       "      <td>0.0</td>\n",
       "      <td>4750.0</td>\n",
       "      <td>18500.0</td>\n",
       "      <td>50000.00</td>\n",
       "      <td>92000.0</td>\n",
       "      <td>24.0</td>\n",
       "      <td>32626.375</td>\n",
       "      <td>33154.088</td>\n",
       "      <td>0.0</td>\n",
       "      <td>2875.00</td>\n",
       "      <td>27000.0</td>\n",
       "      <td>46750.00</td>\n",
       "      <td>105000.0</td>\n",
       "    </tr>\n",
       "    <tr>\n",
       "      <th>6</th>\n",
       "      <td>20.0</td>\n",
       "      <td>48015.000</td>\n",
       "      <td>49031.400</td>\n",
       "      <td>0.0</td>\n",
       "      <td>3375.0</td>\n",
       "      <td>34000.0</td>\n",
       "      <td>77500.00</td>\n",
       "      <td>165000.0</td>\n",
       "      <td>20.0</td>\n",
       "      <td>57110.000</td>\n",
       "      <td>55219.084</td>\n",
       "      <td>0.0</td>\n",
       "      <td>12750.00</td>\n",
       "      <td>47500.0</td>\n",
       "      <td>81250.00</td>\n",
       "      <td>210000.0</td>\n",
       "    </tr>\n",
       "    <tr>\n",
       "      <th>7</th>\n",
       "      <td>11.0</td>\n",
       "      <td>34363.636</td>\n",
       "      <td>33257.398</td>\n",
       "      <td>0.0</td>\n",
       "      <td>5000.0</td>\n",
       "      <td>24000.0</td>\n",
       "      <td>61000.00</td>\n",
       "      <td>100000.0</td>\n",
       "      <td>11.0</td>\n",
       "      <td>51818.182</td>\n",
       "      <td>43326.247</td>\n",
       "      <td>3000.0</td>\n",
       "      <td>15000.00</td>\n",
       "      <td>50000.0</td>\n",
       "      <td>72500.00</td>\n",
       "      <td>150000.0</td>\n",
       "    </tr>\n",
       "    <tr>\n",
       "      <th>8</th>\n",
       "      <td>11.0</td>\n",
       "      <td>61818.182</td>\n",
       "      <td>45216.851</td>\n",
       "      <td>0.0</td>\n",
       "      <td>24500.0</td>\n",
       "      <td>70000.0</td>\n",
       "      <td>91000.00</td>\n",
       "      <td>135000.0</td>\n",
       "      <td>11.0</td>\n",
       "      <td>65409.091</td>\n",
       "      <td>53901.214</td>\n",
       "      <td>0.0</td>\n",
       "      <td>27500.00</td>\n",
       "      <td>70000.0</td>\n",
       "      <td>85000.00</td>\n",
       "      <td>190000.0</td>\n",
       "    </tr>\n",
       "    <tr>\n",
       "      <th>9</th>\n",
       "      <td>4.0</td>\n",
       "      <td>95375.000</td>\n",
       "      <td>85531.062</td>\n",
       "      <td>15000.0</td>\n",
       "      <td>49875.0</td>\n",
       "      <td>75750.0</td>\n",
       "      <td>121250.00</td>\n",
       "      <td>215000.0</td>\n",
       "      <td>4.0</td>\n",
       "      <td>68125.750</td>\n",
       "      <td>90262.171</td>\n",
       "      <td>3.0</td>\n",
       "      <td>16875.75</td>\n",
       "      <td>36250.0</td>\n",
       "      <td>87500.00</td>\n",
       "      <td>200000.0</td>\n",
       "    </tr>\n",
       "    <tr>\n",
       "      <th>10</th>\n",
       "      <td>25.0</td>\n",
       "      <td>59431.800</td>\n",
       "      <td>73469.195</td>\n",
       "      <td>0.0</td>\n",
       "      <td>6000.0</td>\n",
       "      <td>35000.0</td>\n",
       "      <td>80000.00</td>\n",
       "      <td>310000.0</td>\n",
       "      <td>25.0</td>\n",
       "      <td>73777.200</td>\n",
       "      <td>104433.521</td>\n",
       "      <td>0.0</td>\n",
       "      <td>10000.00</td>\n",
       "      <td>50000.0</td>\n",
       "      <td>95000.00</td>\n",
       "      <td>510000.0</td>\n",
       "    </tr>\n",
       "    <tr>\n",
       "      <th>15</th>\n",
       "      <td>13.0</td>\n",
       "      <td>78504.923</td>\n",
       "      <td>32250.509</td>\n",
       "      <td>12000.0</td>\n",
       "      <td>68500.0</td>\n",
       "      <td>83564.0</td>\n",
       "      <td>95000.00</td>\n",
       "      <td>145000.0</td>\n",
       "      <td>13.0</td>\n",
       "      <td>88153.846</td>\n",
       "      <td>44549.310</td>\n",
       "      <td>36000.0</td>\n",
       "      <td>50000.00</td>\n",
       "      <td>85000.0</td>\n",
       "      <td>100000.00</td>\n",
       "      <td>160000.0</td>\n",
       "    </tr>\n",
       "    <tr>\n",
       "      <th>20</th>\n",
       "      <td>4.0</td>\n",
       "      <td>35000.000</td>\n",
       "      <td>30539.592</td>\n",
       "      <td>10000.0</td>\n",
       "      <td>15250.0</td>\n",
       "      <td>26000.0</td>\n",
       "      <td>45750.00</td>\n",
       "      <td>78000.0</td>\n",
       "      <td>4.0</td>\n",
       "      <td>38250.000</td>\n",
       "      <td>28616.720</td>\n",
       "      <td>15000.0</td>\n",
       "      <td>18750.00</td>\n",
       "      <td>30000.0</td>\n",
       "      <td>49500.00</td>\n",
       "      <td>78000.0</td>\n",
       "    </tr>\n",
       "    <tr>\n",
       "      <th>25</th>\n",
       "      <td>5.0</td>\n",
       "      <td>67000.000</td>\n",
       "      <td>45771.170</td>\n",
       "      <td>10000.0</td>\n",
       "      <td>30000.0</td>\n",
       "      <td>80000.0</td>\n",
       "      <td>95000.00</td>\n",
       "      <td>120000.0</td>\n",
       "      <td>5.0</td>\n",
       "      <td>46400.000</td>\n",
       "      <td>52433.768</td>\n",
       "      <td>0.0</td>\n",
       "      <td>1000.00</td>\n",
       "      <td>31000.0</td>\n",
       "      <td>80000.00</td>\n",
       "      <td>120000.0</td>\n",
       "    </tr>\n",
       "  </tbody>\n",
       "</table>\n",
       "</div>"
      ],
      "text/plain": [
       "    income_2018                                                              \\\n",
       "          count       mean        std      min      25%      50%        75%   \n",
       "yoe                                                                           \n",
       "0           9.0   4388.889   8601.518      0.0      0.0      0.0     500.00   \n",
       "1          12.0   9125.000  18526.498      0.0    750.0   1750.0    6250.00   \n",
       "2          36.0  24987.444  24967.926      0.0   2550.0  12000.0   45815.75   \n",
       "3          25.0  34342.640  23401.244      0.0  11000.0  43000.0   54000.00   \n",
       "4          24.0  31896.500  27840.344      0.0   3425.0  29000.0   58875.00   \n",
       "5          24.0  30037.375  29947.820      0.0   4750.0  18500.0   50000.00   \n",
       "6          20.0  48015.000  49031.400      0.0   3375.0  34000.0   77500.00   \n",
       "7          11.0  34363.636  33257.398      0.0   5000.0  24000.0   61000.00   \n",
       "8          11.0  61818.182  45216.851      0.0  24500.0  70000.0   91000.00   \n",
       "9           4.0  95375.000  85531.062  15000.0  49875.0  75750.0  121250.00   \n",
       "10         25.0  59431.800  73469.195      0.0   6000.0  35000.0   80000.00   \n",
       "15         13.0  78504.923  32250.509  12000.0  68500.0  83564.0   95000.00   \n",
       "20          4.0  35000.000  30539.592  10000.0  15250.0  26000.0   45750.00   \n",
       "25          5.0  67000.000  45771.170  10000.0  30000.0  80000.0   95000.00   \n",
       "\n",
       "              income_2019                                                     \\\n",
       "          max       count       mean         std      min       25%      50%   \n",
       "yoe                                                                            \n",
       "0     21000.0         9.0  21877.778   21197.510      0.0   4500.00  15000.0   \n",
       "1     65000.0        12.0  17000.417   18612.347   2000.0   4650.00  10000.0   \n",
       "2     78000.0        36.0  27382.583   26387.783      0.0   3000.00  15000.0   \n",
       "3     72000.0        25.0  36512.320   29255.666      0.0  12000.00  35000.0   \n",
       "4     85000.0        24.0  44863.833   31185.802   1500.0  17000.00  50500.0   \n",
       "5     92000.0        24.0  32626.375   33154.088      0.0   2875.00  27000.0   \n",
       "6    165000.0        20.0  57110.000   55219.084      0.0  12750.00  47500.0   \n",
       "7    100000.0        11.0  51818.182   43326.247   3000.0  15000.00  50000.0   \n",
       "8    135000.0        11.0  65409.091   53901.214      0.0  27500.00  70000.0   \n",
       "9    215000.0         4.0  68125.750   90262.171      3.0  16875.75  36250.0   \n",
       "10   310000.0        25.0  73777.200  104433.521      0.0  10000.00  50000.0   \n",
       "15   145000.0        13.0  88153.846   44549.310  36000.0  50000.00  85000.0   \n",
       "20    78000.0         4.0  38250.000   28616.720  15000.0  18750.00  30000.0   \n",
       "25   120000.0         5.0  46400.000   52433.768      0.0   1000.00  31000.0   \n",
       "\n",
       "                          \n",
       "           75%       max  \n",
       "yoe                       \n",
       "0     40000.00   52000.0  \n",
       "1     20601.25   65000.0  \n",
       "2     48500.00   90000.0  \n",
       "3     56500.00   93000.0  \n",
       "4     70000.00  100000.0  \n",
       "5     46750.00  105000.0  \n",
       "6     81250.00  210000.0  \n",
       "7     72500.00  150000.0  \n",
       "8     85000.00  190000.0  \n",
       "9     87500.00  200000.0  \n",
       "10    95000.00  510000.0  \n",
       "15   100000.00  160000.0  \n",
       "20    49500.00   78000.0  \n",
       "25    80000.00  120000.0  "
      ]
     },
     "execution_count": 17,
     "metadata": {},
     "output_type": "execute_result"
    }
   ],
   "source": [
    "sal_by_yoe = df_usa.query('income_2019 > -1').groupby('yoe')\n",
    "sal_by_yoe.describe()"
   ]
  },
  {
   "cell_type": "code",
   "execution_count": 18,
   "metadata": {},
   "outputs": [
    {
     "data": {
      "text/plain": [
       "Text(0, 0.5, 'Salary (USD)')"
      ]
     },
     "execution_count": 18,
     "metadata": {},
     "output_type": "execute_result"
    },
    {
     "data": {
      "image/png": "[encoded data removed]",
      "text/plain": [
       "<Figure size 1080x864 with 1 Axes>"
      ]
     },
     "metadata": {},
     "output_type": "display_data"
    }
   ],
   "source": [
    "ax = sal_by_yoe[['income_2018', 'income_2019']].median().plot(kind='line', color=['r', 'b'], figsize=(15,12))\n",
    "# sal_by_yoe.median().plot(kind='line', color=['r', 'b'], style='--', ax=ax)\n",
    "ax.set_ylabel('Salary (USD)')"
   ]
  },
  {
   "cell_type": "markdown",
   "metadata": {},
   "source": [
    "#### Descriptive Statistics"
   ]
  },
  {
   "cell_type": "code",
   "execution_count": 19,
   "metadata": {},
   "outputs": [
    {
     "data": {
      "text/plain": [
       "count    243.000\n",
       "mean       6.095\n",
       "std        5.281\n",
       "min        0.000\n",
       "25%        2.000\n",
       "50%        5.000\n",
       "75%        8.000\n",
       "max       25.000\n",
       "Name: yoe, dtype: float64"
      ]
     },
     "execution_count": 19,
     "metadata": {},
     "output_type": "execute_result"
    }
   ],
   "source": [
    "df_usa['yoe'].describe()"
   ]
  },
  {
   "cell_type": "markdown",
   "metadata": {},
   "source": [
    "### Should Game Writers form Unions?"
   ]
  },
  {
   "cell_type": "code",
   "execution_count": 20,
   "metadata": {},
   "outputs": [
    {
     "data": {
      "text/plain": [
       "Maybe                                                                             77\n",
       "Yes                                                                               60\n",
       "Unsure/Don't know enough about the options to feel comfortable making a choice    37\n",
       "No - We should form a union for all game developers                               29\n",
       "No - We should form our own specific guild or union for U.S game writers          22\n",
       "No                                                                                 7\n",
       "Name: Should game writers work with a pre-existing labor organization?, dtype: int64"
      ]
     },
     "execution_count": 20,
     "metadata": {},
     "output_type": "execute_result"
    }
   ],
   "source": [
    "df_usa['Should game writers work with a pre-existing labor organization?'].value_counts().head(6)"
   ]
  },
  {
   "cell_type": "markdown",
   "metadata": {},
   "source": [
    "## Canada"
   ]
  },
  {
   "cell_type": "code",
   "execution_count": 21,
   "metadata": {},
   "outputs": [
    {
     "name": "stdout",
     "output_type": "stream",
     "text": [
      "<class 'pandas.core.frame.DataFrame'>\n",
      "RangeIndex: 7 entries, 0 to 6\n",
      "Data columns (total 19 columns):\n",
      " #   Column                                                                                                                                                                                                                                                                                                                           Non-Null Count  Dtype \n",
      "---  ------                                                                                                                                                                                                                                                                                                                           --------------  ----- \n",
      " 0   Timestamp                                                                                                                                                                                                                                                                                                                        7 non-null      object\n",
      " 1   By clicking the checkbox below, I consent to have my survey answers used for the purposes of publishing public information about game writing, as well as having the information used for general labor organizing within Game Workers Unite. Your personal information (email, phone number, name, etc) will not be published.  7 non-null      object\n",
      " 2   What's your current role? If you have more than one, mark all that apply.                                                                                                                                                                                                                                                        7 non-null      object\n",
      " 3   How many years of experience do you have as a game writer?                                                                                                                                                                                                                                                                       7 non-null      object\n",
      " 4   Which province or territory in Canada do you primarily work from?                                                                                                                                                                                                                                                                7 non-null      object\n",
      " 5   Is game writing your main source of income?                                                                                                                                                                                                                                                                                      7 non-null      object\n",
      " 6   What is your employment status as a game writer?                                                                                                                                                                                                                                                                                 7 non-null      object\n",
      " 7   Do you identify as part of a marginalized community?                                                                                                                                                                                                                                                                             7 non-null      object\n",
      " 8   What was your net income from game writing in 2018 ?                                                                                                                                                                                                                                                                             7 non-null      object\n",
      " 9   How much are you being paid for game writing in 2019? (Salary)                                                                                                                                                                                                                                                                   5 non-null      object\n",
      " 10  How much are you charging for game writing in 2019? (Rate)                                                                                                                                                                                                                                                                       3 non-null      object\n",
      " 11  What do you expect your net income from game writing to be in 2019?                                                                                                                                                                                                                                                              7 non-null      object\n",
      " 12  What issues have you experienced in your game writing role(s)?                                                                                                                                                                                                                                                                   7 non-null      object\n",
      " 13  What are the main issues you experience as a game writer?                                                                                                                                                                                                                                                                        5 non-null      object\n",
      " 14  Have you been miscategorized as an independent contractor now or in the past?                                                                                                                                                                                                                                                    7 non-null      object\n",
      " 15  Do you believe the game industry should unionize?                                                                                                                                                                                                                                                                                7 non-null      object\n",
      " 16  Should game writers work with a pre-existing labor organization?                                                                                                                                                                                                                                                                 7 non-null      object\n",
      " 17  Provide any (positive or negative) feedback you'd like about the survey!                                                                                                                                                                                                                                                         2 non-null      object\n",
      " 18  Would you like GWU to follow-up with you about your answers to the survey?                                                                                                                                                                                                                                                       3 non-null      object\n",
      "dtypes: object(19)\n",
      "memory usage: 1.2+ KB\n"
     ]
    }
   ],
   "source": [
    "df_canada = pd.read_csv(canada_file)\n",
    "df_canada.info()"
   ]
  },
  {
   "cell_type": "markdown",
   "metadata": {},
   "source": [
    "### Most represented region"
   ]
  },
  {
   "cell_type": "code",
   "execution_count": 22,
   "metadata": {},
   "outputs": [
    {
     "data": {
      "text/plain": [
       "Ontario (ON)    4\n",
       "Quebec (QC)     3\n",
       "Name: Which province or territory in Canada do you primarily work from?, dtype: int64"
      ]
     },
     "execution_count": 22,
     "metadata": {},
     "output_type": "execute_result"
    }
   ],
   "source": [
    "df_canada['Which province or territory in Canada do you primarily work from?'].value_counts()"
   ]
  },
  {
   "cell_type": "markdown",
   "metadata": {},
   "source": [
    "## France"
   ]
  },
  {
   "cell_type": "code",
   "execution_count": 23,
   "metadata": {
    "scrolled": true
   },
   "outputs": [
    {
     "name": "stdout",
     "output_type": "stream",
     "text": [
      "<class 'pandas.core.frame.DataFrame'>\n",
      "RangeIndex: 38 entries, 0 to 37\n",
      "Data columns (total 41 columns):\n",
      " #   Column                                                                                                                                                                                                                                                                                                                           Non-Null Count  Dtype  \n",
      "---  ------                                                                                                                                                                                                                                                                                                                           --------------  -----  \n",
      " 0   By clicking the checkbox below, I consent to have my survey answers used for the purposes of publishing public information about game writing, as well as having the information used for general labor organizing within Game Workers Unite. Your personal information (email, phone number, name, etc) will not be published.  38 non-null     object \n",
      " 1   Game Writer (Digital)                                                                                                                                                                                                                                                                                                            9 non-null      object \n",
      " 2   Game Writer (Analog: Tabletop games,etc)                                                                                                                                                                                                                                                                                         3 non-null      object \n",
      " 3   Contributing/ Jr. / Associate Game Writer                                                                                                                                                                                                                                                                                        2 non-null      object \n",
      " 4   Narrative Designer                                                                                                                                                                                                                                                                                                               18 non-null     object \n",
      " 5   Editor                                                                                                                                                                                                                                                                                                                           2 non-null      object \n",
      " 6   Journalist                                                                                                                                                                                                                                                                                                                       9 non-null      object \n",
      " 7   Quest Designer                                                                                                                                                                                                                                                                                                                   3 non-null      object \n",
      " 8   Localization                                                                                                                                                                                                                                                                                                                     7 non-null      object \n",
      " 9   Critic                                                                                                                                                                                                                                                                                                                           2 non-null      object \n",
      " 10  Intern for one of these positions (also mark your title)                                                                                                                                                                                                                                                                         2 non-null      object \n",
      " 11  Currently Unemployed (if so, also mark your past title)                                                                                                                                                                                                                                                                          5 non-null      object \n",
      " 12  Other                                                                                                                                                                                                                                                                                                                            4 non-null      object \n",
      " 13  If other, add details                                                                                                                                                                                                                                                                                                            4 non-null      object \n",
      " 14  How many years of experience do you have as a game writer?                                                                                                                                                                                                                                                                       38 non-null     object \n",
      " 15  Is game writing your main source of income?                                                                                                                                                                                                                                                                                      38 non-null     object \n",
      " 16  What is your employment status as a game writer?                                                                                                                                                                                                                                                                                 38 non-null     object \n",
      " 17  Do you identify as part of a marginalized community?                                                                                                                                                                                                                                                                             38 non-null     object \n",
      " 18  What was your net income from game writing in 2018 ? (yearly, in Euros)                                                                                                                                                                                                                                                          38 non-null     int64  \n",
      " 19  How much are you being paid for game writing in 2019? (Salary, monthly, in Euros)                                                                                                                                                                                                                                                19 non-null     float64\n",
      " 20  How much are you charging for game writing in 2019? (Rate)                                                                                                                                                                                                                                                                       11 non-null     float64\n",
      " 21  What do you expect your net income from game writing to be in 2019? (yearly, in Euros)                                                                                                                                                                                                                                           38 non-null     int64  \n",
      " 22  Crunch (working over 40 hours a week)                                                                                                                                                                                                                                                                                            14 non-null     object \n",
      " 23  Unpaid over-time                                                                                                                                                                                                                                                                                                                 13 non-null     object \n",
      " 24  Low pay                                                                                                                                                                                                                                                                                                                          23 non-null     object \n",
      " 25  Healthcare coverage problems because of an employer                                                                                                                                                                                                                                                                              2 non-null      object \n",
      " 26  Frequent job instability (due to lay-offs, contract status, etc.)                                                                                                                                                                                                                                                                16 non-null     object \n",
      " 27  Lack of remote jobs                                                                                                                                                                                                                                                                                                              14 non-null     object \n",
      " 28  Lack of relocation assistance                                                                                                                                                                                                                                                                                                    5 non-null      object \n",
      " 29  Delayed/missing payments                                                                                                                                                                                                                                                                                                         12 non-null     object \n",
      " 30  Lack of mentorship/training                                                                                                                                                                                                                                                                                                      14 non-null     object \n",
      " 31  Your work was not credited                                                                                                                                                                                                                                                                                                       15 non-null     object \n",
      " 32  Harassment/Discrimination                                                                                                                                                                                                                                                                                                        3 non-null      object \n",
      " 33  You have not personally experienced any major issues as a game writer                                                                                                                                                                                                                                                            6 non-null      object \n",
      " 34  Other (please detail in the next question)                                                                                                                                                                                                                                                                                       3 non-null      object \n",
      " 35  What are the main issues you experience as a game writer?                                                                                                                                                                                                                                                                        13 non-null     object \n",
      " 36  Have you already worked as a hidden salaried worker ?                                                                                                                                                                                                                                                                            38 non-null     object \n",
      " 37  Do you believe the game industry should unionize?                                                                                                                                                                                                                                                                                38 non-null     object \n",
      " 38  Should game writers work with a pre-existing, not video game related labor organization?                                                                                                                                                                                                                                         38 non-null     object \n",
      " 39  If other                                                                                                                                                                                                                                                                                                                         1 non-null      object \n",
      " 40  Provide any (positive or negative) feedback you'd like about the survey!                                                                                                                                                                                                                                                         8 non-null      object \n",
      "dtypes: float64(2), int64(2), object(37)\n",
      "memory usage: 12.3+ KB\n"
     ]
    }
   ],
   "source": [
    "df_france = pd.read_csv(france_file)\n",
    "df_france.info()"
   ]
  },
  {
   "cell_type": "code",
   "execution_count": 24,
   "metadata": {},
   "outputs": [
    {
     "data": {
      "text/plain": [
       "False    23\n",
       "True     15\n",
       "Name: is_marginalized, dtype: int64"
      ]
     },
     "execution_count": 24,
     "metadata": {},
     "output_type": "execute_result"
    }
   ],
   "source": [
    "df_france['is_marginalized'] = df_france['Do you identify as part of a marginalized community?'].apply(lambda x: x == 'Yes')\n",
    "df_france['is_marginalized'].value_counts()"
   ]
  },
  {
   "cell_type": "code",
   "execution_count": 25,
   "metadata": {},
   "outputs": [
    {
     "data": {
      "image/png": "[encoded data removed]",
      "text/plain": [
       "<Figure size 1080x864 with 1 Axes>"
      ]
     },
     "metadata": {},
     "output_type": "display_data"
    }
   ],
   "source": [
    "df_france['income_2019'] = df_france['What do you expect your net income from game writing to be in 2019? (yearly, in Euros)']\n",
    "# df_france['income_2019'] = df_france['income_2019'].str.replace(r'\\d+-', '').str.replace(r'k\\b', '000').str.replace(r'\\.\\d+\\b', '').str.replace(r'\\D+', '').apply(lambda x: x if x != '' else '-1').fillna('-1').astype(int)\n",
    "ax = df_france.query('income_2019 > -1').income_2019.plot(kind='hist', bins=df_france.income_2019.max() // 5000 + 1, figsize=(15,12), grid=False)\n",
    "add_bar_graph_counts(ax, 'Income (Euros)')"
   ]
  },
  {
   "cell_type": "markdown",
   "metadata": {},
   "source": [
    "## Germany"
   ]
  },
  {
   "cell_type": "code",
   "execution_count": 26,
   "metadata": {
    "scrolled": true
   },
   "outputs": [
    {
     "name": "stdout",
     "output_type": "stream",
     "text": [
      "<class 'pandas.core.frame.DataFrame'>\n",
      "RangeIndex: 7 entries, 0 to 6\n",
      "Data columns (total 17 columns):\n",
      " #   Column                                                                                                                                                                                                                                                                                                                                                                                           Non-Null Count  Dtype  \n",
      "---  ------                                                                                                                                                                                                                                                                                                                                                                                           --------------  -----  \n",
      " 0   Timestamp                                                                                                                                                                                                                                                                                                                                                                                        7 non-null      object \n",
      " 1   Mit dem Anklicken der Checkbox unten, bestätige ich, dass meine Angaben dafür verwendet werden dürfen über die Arbeit von Autoren in der Spielebranche zu berichten. Ebenso können meine Angaben von Game Workers Unite verwendet werden, um allgemeine gewerkschaftliche Arbeit durchzuführen. Meine persönlichen Informationen (Name, Email, Telefonnummer,...) werden nicht veröffentlicht.   7 non-null      object \n",
      " 2   Was ist Ihre momentane berufliche Aufgabe? Falls sie über mehr als eine verfügen markieren Sie bitte alle zutreffenden.                                                                                                                                                                                                                                                                          7 non-null      object \n",
      " 3   Seit wievielen Jahren arbeiten Sie bereits als AutorIn?                                                                                                                                                                                                                                                                                                                                          7 non-null      object \n",
      " 4   In welchem Bundesland arbeiten Sie?                                                                                                                                                                                                                                                                                                                                                              7 non-null      object \n",
      " 5   Ist Autorenarbeit für die Spielebranche derzeit Ihre Haupteinkunftsquelle?                                                                                                                                                                                                                                                                                                                       7 non-null      object \n",
      " 6   Über welchen Arbeitnehmerstatus verfügen Sie zur Zeit?                                                                                                                                                                                                                                                                                                                                           7 non-null      object \n",
      " 7   Sind Sie Teil einer marginalisierten Gruppe?                                                                                                                                                                                                                                                                                                                                                     7 non-null      object \n",
      " 8   Was war ihr Nettoeinkommen für Autorenarbeit im Spielebereich im Kalenderjahr 2018?                                                                                                                                                                                                                                                                                                              7 non-null      object \n",
      " 9   Wie hoch ist ihr Gehalt im Jahr 2019?                                                                                                                                                                                                                                                                                                                                                            3 non-null      float64\n",
      " 10  Welchen Stundensatz verlangen Sie für Autorenarbeit im Jahr 2019?                                                                                                                                                                                                                                                                                                                                1 non-null      float64\n",
      " 11  Was ist ihr erwartetes Nettoeinkommen für Autorenarbeit im Spielebereich im Jahr 2019?                                                                                                                                                                                                                                                                                                           7 non-null      object \n",
      " 12  Welchen Problemen sind Sie in ihrer Rolle als AutorIn begegnet?                                                                                                                                                                                                                                                                                                                                  7 non-null      object \n",
      " 13  Was sind Ihre Hauptanliegen und die wichtigsten Probleme, denen sie als AutorIn begegnet sind?                                                                                                                                                                                                                                                                                                   7 non-null      object \n",
      " 14  Wurden Sie bereits als \"Scheinselbstständige(r)\" beschäftigt?                                                                                                                                                                                                                                                                                                                                    7 non-null      object \n",
      " 15  Sind sie der Überzeugung, dass es eine Gewerkschaft für die Spielebranche geben sollte?                                                                                                                                                                                                                                                                                                          7 non-null      object \n",
      " 16  Sollten Autoren im Spielebereich mit bereits bestehenden Berufsverbänden zusammenarbeiten?                                                                                                                                                                                                                                                                                                       7 non-null      object \n",
      "dtypes: float64(2), object(15)\n",
      "memory usage: 1.1+ KB\n"
     ]
    }
   ],
   "source": [
    "df_germany = pd.read_csv(germany_file)\n",
    "df_germany.info()"
   ]
  }
 ],
 "metadata": {
  "kernelspec": {
   "display_name": "Python 3",
   "language": "python",
   "name": "python3"
  },
  "language_info": {
   "codemirror_mode": {
    "name": "ipython",
    "version": 3
   },
   "file_extension": ".py",
   "mimetype": "text/x-python",
   "name": "python",
   "nbconvert_exporter": "python",
   "pygments_lexer": "ipython3",
   "version": "3.6.9"
  }
 },
 "nbformat": 4,
 "nbformat_minor": 4
}
